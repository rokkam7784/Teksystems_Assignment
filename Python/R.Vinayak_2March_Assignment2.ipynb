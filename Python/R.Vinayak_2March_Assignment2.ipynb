{
 "cells": [
  {
   "cell_type": "markdown",
   "id": "7c3cbfad",
   "metadata": {},
   "source": [
    "## Exercise Questions"
   ]
  },
  {
   "cell_type": "markdown",
   "id": "47b8735a",
   "metadata": {},
   "source": [
    "    "
   ]
  },
  {
   "cell_type": "markdown",
   "id": "3225dcb3",
   "metadata": {},
   "source": [
    "    "
   ]
  },
  {
   "attachments": {
    "image.png": {
     "image/png": "[encoded data removed]"
    }
   },
   "cell_type": "markdown",
   "id": "6615dc1d",
   "metadata": {},
   "source": [
    "![image.png](attachment:image.png)"
   ]
  },
  {
   "cell_type": "code",
   "execution_count": 206,
   "id": "c24e1b70",
   "metadata": {},
   "outputs": [
    {
     "name": "stdout",
     "output_type": "stream",
     "text": [
      "Give the input of the 2 files i form of -> 'c:/dir1/dir2/file.text'\n"
     ]
    },
    {
     "data": {
      "text/plain": [
       "'c:/users/rvinayak1/OneDrive - ALLEGIS GROUP/Desktop/Training/Python/File_Handling/'"
      ]
     },
     "execution_count": 206,
     "metadata": {},
     "output_type": "execute_result"
    }
   ],
   "source": [
    "import hashlib\n",
    "import os\n",
    "print(\"Give the input of the 2 files i form of -> 'c:/dir1/dir2/file.text'\")\n",
    "\n",
    "path = \"c:/users/rvinayak1/OneDrive - ALLEGIS GROUP/Desktop/Training/Python/File_Handling/\"\n",
    "\n",
    "text_files_list = []\n",
    "\n",
    "path"
   ]
  },
  {
   "cell_type": "code",
   "execution_count": 207,
   "id": "870fb626",
   "metadata": {},
   "outputs": [],
   "source": [
    "def hash_string(s):\n",
    "    byte_input = s.encode()\n",
    "    hash_object = hashlib.sha3_256(byte_input)\n",
    "    return hash_object"
   ]
  },
  {
   "cell_type": "code",
   "execution_count": 208,
   "id": "be400749",
   "metadata": {},
   "outputs": [
    {
     "name": "stdout",
     "output_type": "stream",
     "text": [
      "['file2.txt', 'file3.txt']\n"
     ]
    }
   ],
   "source": [
    "# path = input(\"Input Path :\")\n",
    "for i in os.listdir(path):\n",
    "    if i[-3:] == \"txt\" or i[:-4]== \"text\":\n",
    "        text_files_list.append(i)\n",
    "\n",
    "        \n",
    "print(text_files_list)"
   ]
  },
  {
   "cell_type": "code",
   "execution_count": 209,
   "id": "02023126",
   "metadata": {},
   "outputs": [],
   "source": [
    "text_files_dir = {}\n",
    "for i in text_files_list:\n",
    "    fileobj = open(path+i, 'r',encoding=\"utf8\")\n",
    "    text = fileobj.read()\n",
    "    fileobj.close()\n",
    "#     print(hash_string(text1).hexdigest(),i)\n",
    "    if hash_string(text).hexdigest() not in text_files_dir.keys():\n",
    "        text_files_dir[hash_string(text).hexdigest()] = [i]\n",
    "    else :\n",
    "        text_files_dir[hash_string(text).hexdigest()].append(i)\n",
    "#     print(text_files_dir)"
   ]
  },
  {
   "cell_type": "code",
   "execution_count": 210,
   "id": "6dc221b9",
   "metadata": {},
   "outputs": [
    {
     "name": "stdout",
     "output_type": "stream",
     "text": [
      "Duplicate Files are : \n"
     ]
    }
   ],
   "source": [
    "print(\"Duplicate Files are : \")\n",
    "for i,j in text_files_dir.items():\n",
    "    if len(j) >= 2:\n",
    "        print(\"\\t\\t\\t\",end = \" \")\n",
    "        print(\" | \".join(j))"
   ]
  },
  {
   "cell_type": "code",
   "execution_count": 211,
   "id": "43e1142b",
   "metadata": {},
   "outputs": [
    {
     "data": {
      "text/plain": [
       "{'02db9759b0b74b3158bfb9a93ae33d2eaef2ff3c36f5848bacd34f3df9c30d60': ['file2.txt'],\n",
       " '6c05662cce8987b369f4131da771c288f2ffd9fa89cf6b0ae2aaf2373be5532f': ['file3.txt']}"
      ]
     },
     "execution_count": 211,
     "metadata": {},
     "output_type": "execute_result"
    }
   ],
   "source": [
    "text_files_dir"
   ]
  },
  {
   "cell_type": "code",
   "execution_count": 212,
   "id": "1db1bb02",
   "metadata": {},
   "outputs": [],
   "source": [
    "for i,j in text_files_dir.items():\n",
    "    if len(j) >= 2:\n",
    "        for k in j[:-1]:\n",
    "            os.remove(path+k)\n",
    "\n",
    "            "
   ]
  },
  {
   "cell_type": "markdown",
   "id": "f70790e5",
   "metadata": {},
   "source": [
    "     "
   ]
  },
  {
   "cell_type": "markdown",
   "id": "97cf8ecc",
   "metadata": {},
   "source": [
    "   "
   ]
  },
  {
   "attachments": {
    "image.png": {
     "image/png": "[encoded data removed]"
    }
   },
   "cell_type": "markdown",
   "id": "008a51a2",
   "metadata": {},
   "source": [
    "![image.png](attachment:image.png)"
   ]
  },
  {
   "cell_type": "code",
   "execution_count": 213,
   "id": "6982568b",
   "metadata": {},
   "outputs": [
    {
     "data": {
      "text/plain": [
       "'9wg77'"
      ]
     },
     "execution_count": 213,
     "metadata": {},
     "output_type": "execute_result"
    }
   ],
   "source": [
    "\n",
    "def genpass():\n",
    "    import random\n",
    "    def genrandom(l):\n",
    "        return random.randint(0,len(l))\n",
    "    sml = list(\"qwertyuiopasdfghjklzxcvbnm\")\n",
    "    lrg = list(\"qwertyuiopasdfghjklzxcvbnm\".upper())\n",
    "    num = list(\"1234567890\")\n",
    "    password = []\n",
    "    password.append(random.sample(lrg,1)[0])\n",
    "    password.append(random.sample(sml,1)[0])\n",
    "    password.append(random.sample(sml,1)[0])\n",
    "    password.append(random.sample(num,1)[0])\n",
    "    password.append(random.sample(num,1)[0])\n",
    "    password.append(random.sample(num,1)[0])\n",
    "    \n",
    "    def shuffle(l):\n",
    "        new_l = []\n",
    "        while len(new_l)!=5:\n",
    "            i = random.sample(l,1)[0]\n",
    "            new_l.append(i)\n",
    "            l.remove(i)\n",
    "        return new_l\n",
    "    \n",
    "        \n",
    "    return \"\".join(shuffle(password))\n",
    "\n",
    "genpass()\n"
   ]
  },
  {
   "cell_type": "markdown",
   "id": "96699208",
   "metadata": {},
   "source": [
    "   "
   ]
  },
  {
   "cell_type": "markdown",
   "id": "b0b1d77c",
   "metadata": {},
   "source": [
    "  "
   ]
  },
  {
   "attachments": {
    "image.png": {
     "image/png": "[encoded data removed]"
    }
   },
   "cell_type": "markdown",
   "id": "8bd6bb67",
   "metadata": {},
   "source": [
    "![image.png](attachment:image.png)"
   ]
  },
  {
   "cell_type": "code",
   "execution_count": 214,
   "id": "13a3011d",
   "metadata": {},
   "outputs": [
    {
     "name": "stdout",
     "output_type": "stream",
     "text": [
      "4\n",
      "6\n"
     ]
    }
   ],
   "source": [
    "import numpy as np\n",
    "def prime(x):\n",
    "    if x < 2:\n",
    "        return False\n",
    "    for i in range(2, x):\n",
    "        if x % i == 0:\n",
    "            return False\n",
    "    return True\n",
    "def Solution(mat,k= 0):\n",
    "    for i in range(row):\n",
    "        for j in range(col):\n",
    "            if prime(k):\n",
    "                mat[i][j] = (k) ** 3\n",
    "            k += 1\n",
    "    return mat\n",
    "row = int(input())\n",
    "col = int(input())\n",
    "mat = np.arange(0, row*col).reshape((row, col))\n",
    "answer_matrix = Solution(mat)"
   ]
  },
  {
   "cell_type": "code",
   "execution_count": 215,
   "id": "8a51029f",
   "metadata": {},
   "outputs": [
    {
     "data": {
      "text/plain": [
       "array([[    0,     1,     8,    27,     4,   125],\n",
       "       [    6,   343,     8,     9,    10,  1331],\n",
       "       [   12,  2197,    14,    15,    16,  4913],\n",
       "       [   18,  6859,    20,    21,    22, 12167]])"
      ]
     },
     "execution_count": 215,
     "metadata": {},
     "output_type": "execute_result"
    }
   ],
   "source": [
    "answer_matrix"
   ]
  },
  {
   "cell_type": "markdown",
   "id": "44a85082",
   "metadata": {},
   "source": [
    "   "
   ]
  },
  {
   "cell_type": "markdown",
   "id": "f734e133",
   "metadata": {},
   "source": [
    "   \n",
    "  "
   ]
  },
  {
   "attachments": {
    "image.png": {
     "image/png": "[encoded data removed]"
    }
   },
   "cell_type": "markdown",
   "id": "c4d765c2",
   "metadata": {},
   "source": [
    "![image.png](attachment:image.png)"
   ]
  },
  {
   "cell_type": "code",
   "execution_count": 216,
   "id": "81d4e8ea",
   "metadata": {},
   "outputs": [
    {
     "data": {
      "text/plain": [
       "array([[    0,     1,     9,    36,     4,   129],\n",
       "       [    6,   349,     8,     9,    10,  1341],\n",
       "       [   12,  2209,    14,    15,    16,  4929],\n",
       "       [   18,  6877,    20,    21,    22, 12189]])"
      ]
     },
     "execution_count": 216,
     "metadata": {},
     "output_type": "execute_result"
    }
   ],
   "source": [
    "def findSum(mat2, k ):\n",
    "    ans=[]\n",
    "    for i in range(mat2.shape[0]):\n",
    "        for j in range(mat2.shape[1]):\n",
    "            if prime(k):\n",
    "                sum1=0\n",
    "                if j>0:\n",
    "                    sum1+= mat2[i][j-1]\n",
    "                else:\n",
    "                    sum1+=mat2[i-1][mat2.shape[1]-1]\n",
    "                mat2[i][j]+=sum1\n",
    "            k += 1\n",
    "findSum(answer_matrix,0)\n",
    "answer_matrix"
   ]
  },
  {
   "cell_type": "markdown",
   "id": "d754f5ed",
   "metadata": {},
   "source": [
    "  "
   ]
  },
  {
   "cell_type": "markdown",
   "id": "c6436d4f",
   "metadata": {},
   "source": [
    "  "
   ]
  },
  {
   "attachments": {
    "image.png": {
     "image/png": "[encoded data removed]"
    }
   },
   "cell_type": "markdown",
   "id": "9c49b516",
   "metadata": {},
   "source": [
    "![image.png](attachment:image.png)"
   ]
  },
  {
   "cell_type": "code",
   "execution_count": 217,
   "id": "6d39c19c",
   "metadata": {},
   "outputs": [
    {
     "data": {
      "text/plain": [
       "array([3, 5])"
      ]
     },
     "execution_count": 217,
     "metadata": {},
     "output_type": "execute_result"
    }
   ],
   "source": [
    "import numpy as np\n",
    "arr1 = np.array([1,3,4,5,7])\n",
    "arr2 = np.array([2,3,5,6])\n",
    "np.intersect1d(arr1,arr2)"
   ]
  },
  {
   "cell_type": "markdown",
   "id": "38eb4586",
   "metadata": {},
   "source": [
    "  "
   ]
  },
  {
   "cell_type": "markdown",
   "id": "7a36936e",
   "metadata": {},
   "source": [
    "  "
   ]
  },
  {
   "attachments": {
    "image.png": {
     "image/png": "[encoded data removed]"
    }
   },
   "cell_type": "markdown",
   "id": "59cff1fe",
   "metadata": {},
   "source": [
    "![image.png](attachment:image.png)"
   ]
  },
  {
   "cell_type": "code",
   "execution_count": 218,
   "id": "72c43cfd",
   "metadata": {},
   "outputs": [
    {
     "name": "stdout",
     "output_type": "stream",
     "text": [
      "Write space separated value of row and column :4 5\n"
     ]
    },
    {
     "data": {
      "text/plain": [
       "array([[ 7, 14, 21, 28],\n",
       "       [14, 21, 28, 35],\n",
       "       [21, 28, 35, 42],\n",
       "       [28, 35, 42, 49]])"
      ]
     },
     "execution_count": 218,
     "metadata": {},
     "output_type": "execute_result"
    }
   ],
   "source": [
    "row, col = map(int, input(\"Write space separated value of row and column :\").split())\n",
    "matrx = [[7*(i+j) for i in range(row)]for j in range(1, col)]\n",
    "arr = np.array(matrx)\n",
    "arr"
   ]
  },
  {
   "cell_type": "code",
   "execution_count": 219,
   "id": "5575c454",
   "metadata": {},
   "outputs": [
    {
     "name": "stdout",
     "output_type": "stream",
     "text": [
      "49\n"
     ]
    }
   ],
   "source": [
    "print(arr[-1][-1])"
   ]
  },
  {
   "cell_type": "markdown",
   "id": "558de399",
   "metadata": {},
   "source": [
    "  "
   ]
  },
  {
   "cell_type": "markdown",
   "id": "d09b15df",
   "metadata": {},
   "source": [
    "   "
   ]
  },
  {
   "attachments": {
    "image.png": {
     "image/png": "[encoded data removed]"
    }
   },
   "cell_type": "markdown",
   "id": "765aa699",
   "metadata": {},
   "source": [
    "![image.png](attachment:image.png)"
   ]
  },
  {
   "cell_type": "code",
   "execution_count": 220,
   "id": "6bc388a5",
   "metadata": {},
   "outputs": [
    {
     "name": "stdout",
     "output_type": "stream",
     "text": [
      "rows :4\n",
      "columns :5\n"
     ]
    },
    {
     "data": {
      "text/plain": [
       "array([[1, 0, 1, 0],\n",
       "       [0, 1, 0, 1],\n",
       "       [1, 0, 1, 0],\n",
       "       [0, 1, 0, 1]], dtype=int8)"
      ]
     },
     "execution_count": 220,
     "metadata": {},
     "output_type": "execute_result"
    }
   ],
   "source": [
    "import numpy as np\n",
    "def checkerBoard(x, y):\n",
    "    npArr = np.ones((x, y),dtype = \"int8\")\n",
    "    npArr[1::2, ::2] = 0\n",
    "    npArr[::2, 1::2] = 0\n",
    "    return npArr\n",
    "\n",
    "row = int(input(\"rows :\"))\n",
    "column = int(input(\"columns :\"))\n",
    "checkerBoard(x, y)"
   ]
  },
  {
   "cell_type": "markdown",
   "id": "e03c3961",
   "metadata": {},
   "source": [
    "  "
   ]
  },
  {
   "cell_type": "markdown",
   "id": "082b6cba",
   "metadata": {},
   "source": [
    "  "
   ]
  },
  {
   "attachments": {
    "image.png": {
     "image/png": "[encoded data removed]"
    }
   },
   "cell_type": "markdown",
   "id": "758be4df",
   "metadata": {},
   "source": [
    "![image.png](attachment:image.png)"
   ]
  },
  {
   "cell_type": "code",
   "execution_count": 221,
   "id": "e2fcbd9d",
   "metadata": {},
   "outputs": [],
   "source": [
    "import numpy as np\n",
    "count = 0\n",
    "vowels = 'AEIOU'\n",
    "mat = ['A', 'B', 'C', 'D', 'E', 'F', 'G', 'H', 'I', 'a', 'K', 'L', 'M', 'N', 'o', 'P', 'Q', 'R', 'S', 'T', 'U', '0', 'W', 'O']\n",
    "for i, ele in enumerate(mat):\n",
    "    if ele in vowels:\n",
    "        mat[i] = np.nan\n",
    "        count += 1\n",
    "npArr = np.array(mat)"
   ]
  },
  {
   "cell_type": "code",
   "execution_count": 222,
   "id": "82d160c8",
   "metadata": {},
   "outputs": [
    {
     "data": {
      "text/plain": [
       "array([['nan', 'B', 'C', 'D', 'nan', 'F'],\n",
       "       ['G', 'H', 'nan', 'a', 'K', 'L'],\n",
       "       ['M', 'N', 'o', 'P', 'Q', 'R'],\n",
       "       ['S', 'T', 'nan', '0', 'W', 'nan']], dtype='<U32')"
      ]
     },
     "execution_count": 222,
     "metadata": {},
     "output_type": "execute_result"
    }
   ],
   "source": [
    "npArr.reshape(4,6)"
   ]
  },
  {
   "cell_type": "code",
   "execution_count": 223,
   "id": "7185b608",
   "metadata": {},
   "outputs": [
    {
     "data": {
      "text/plain": [
       "'count : 5'"
      ]
     },
     "execution_count": 223,
     "metadata": {},
     "output_type": "execute_result"
    }
   ],
   "source": [
    "\"count : \"+str(count)"
   ]
  }
 ],
 "metadata": {
  "kernelspec": {
   "display_name": "Python 3 (ipykernel)",
   "language": "python",
   "name": "python3"
  },
  "language_info": {
   "codemirror_mode": {
    "name": "ipython",
    "version": 3
   },
   "file_extension": ".py",
   "mimetype": "text/x-python",
   "name": "python",
   "nbconvert_exporter": "python",
   "pygments_lexer": "ipython3",
   "version": "3.9.13"
  }
 },
 "nbformat": 4,
 "nbformat_minor": 5
}
